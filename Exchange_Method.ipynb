{
 "cells": [
  {
   "cell_type": "markdown",
   "metadata": {},
   "source": [
    "Exchange_Method\n",
    "-------------------\n",
    "Get the matrix's inverse with the exchange method:\n",
    "$$\n",
    "\\begin{bmatrix}\n",
    "4 &3  &-2 &1 \\\\\n",
    "1 &-3 &0  &-1 \\\\\n",
    "2 &1  &3  &-2 \\\\\n",
    "2 &-2 &3  &-3\n",
    "\\end{bmatrix}\n",
    "$$"
   ]
  },
  {
   "cell_type": "code",
   "execution_count": 1,
   "metadata": {},
   "outputs": [],
   "source": [
    "import numpy as np\n",
    "from sympy import Matrix, init_printing\n",
    "init_printing()"
   ]
  },
  {
   "cell_type": "markdown",
   "metadata": {},
   "source": [
    "To begin, we start our matrix and put some lists that help us to know what $x_{n}$ and $b_{n}$ we were working and in the future we will sort"
   ]
  },
  {
   "cell_type": "code",
   "execution_count": 2,
   "metadata": {},
   "outputs": [],
   "source": [
    "A = np.zeros((4, 4))\n",
    "A[0] = [4, 3, -2, 1]\n",
    "A[1] = [1, -3, 0, -1]\n",
    "A[2] = [2, 1, 3, -2]\n",
    "A[3] = [2, -2, 3, -3]\n",
    "fila = []\n",
    "columna = []"
   ]
  },
  {
   "cell_type": "markdown",
   "metadata": {},
   "source": [
    "We have a matrix of $n \\times n$, so we are going to make the exchange method $n-1$ times after this, we will look at which are the latest $x_{n}$ and $b_{n}$ that we must exchange."
   ]
  },
  {
   "cell_type": "code",
   "execution_count": 3,
   "metadata": {},
   "outputs": [
    {
     "name": "stdout",
     "output_type": "stream",
     "text": [
      "Iteracion 1, pivote: 4.000\n",
      "[[ 0.25 -0.75  0.5  -0.25]\n",
      " [ 0.25 -3.75  0.5  -1.25]\n",
      " [ 0.5  -0.5   4.   -2.5 ]\n",
      " [ 0.5  -3.5   4.   -3.5 ]]\n",
      "\n",
      "Iteracion 2, pivote: 4.000\n",
      "[[ 0.1875 -0.6875  0.125   0.0625]\n",
      " [ 0.1875 -3.6875  0.125  -0.9375]\n",
      " [-0.125   0.125   0.25    0.625 ]\n",
      " [ 0.     -3.      1.     -1.    ]]\n",
      "\n",
      "Iteracion 3, pivote: -3.688\n",
      "[[ 0.15254237  0.18644068  0.10169492  0.23728814]\n",
      " [ 0.05084746 -0.27118644  0.03389831 -0.25423729]\n",
      " [-0.11864407 -0.03389831  0.25423729  0.59322034]\n",
      " [-0.15254237  0.81355932  0.89830508 -0.23728814]]\n",
      "\n"
     ]
    }
   ],
   "source": [
    "for iter in range(len(A) - 1):\n",
    "  mayor = 0\n",
    "  for fila_ in A:\n",
    "    for elemento in fila_:\n",
    "      if abs(mayor) < abs(elemento):\n",
    "        mayor = elemento\n",
    "  loc = np.where(A == mayor)\n",
    "  fila.append(loc[0][0])\n",
    "  columna.append(loc[1][0])\n",
    "\n",
    "  for i in range(len(A)):\n",
    "    if i != columna[iter]:\n",
    "      A[fila[iter], i] = A[fila[iter], i] / (- mayor)\n",
    "\n",
    "  for i in range(len(A)):\n",
    "    k = A[i, columna[iter]]\n",
    "    for j in range(len(A)):\n",
    "      if j != columna[iter] and i != fila[iter]:\n",
    "        A[i, j] += k * A[fila[iter], j]\n",
    "\n",
    "  for i in range(len(A)):\n",
    "    if i == fila[iter]:\n",
    "      A[i, columna[iter]] = 1 / mayor\n",
    "    else:\n",
    "      A[i, columna[iter]] /= mayor\n",
    "  print(f\"Iteracion {iter+1}, pivote: {mayor:.3f}\\n{A}\\n\")"
   ]
  },
  {
   "cell_type": "markdown",
   "metadata": {},
   "source": [
    "Once we have made the process $n-1$ times (in this case three times), we identify the row and column that are not exchanged, and we make the method in this $x_{n}$ and $b_{n}$ like pivot no matter if is greater or no."
   ]
  },
  {
   "cell_type": "code",
   "execution_count": 4,
   "metadata": {},
   "outputs": [
    {
     "data": {
      "image/png": "[encoded data removed]",
      "text/latex": [
       "$\\displaystyle \\left[\\begin{matrix}0 & 1.0 & 1.0 & -1.0\\\\0.21429 & -1.1429 & -0.92857 & 1.0714\\\\-0.5 & 2.0 & 2.5 & -2.5\\\\-0.64286 & 3.4286 & 3.7857 & -4.2143\\end{matrix}\\right]$"
      ],
      "text/plain": [
       "⎡   0        1.0      1.0      -1.0  ⎤\n",
       "⎢                                    ⎥\n",
       "⎢0.21429   -1.1429  -0.92857  1.0714 ⎥\n",
       "⎢                                    ⎥\n",
       "⎢  -0.5      2.0      2.5      -2.5  ⎥\n",
       "⎢                                    ⎥\n",
       "⎣-0.64286  3.4286    3.7857   -4.2143⎦"
      ]
     },
     "execution_count": 4,
     "metadata": {},
     "output_type": "execute_result"
    }
   ],
   "source": [
    "for i in range(len(A)):\n",
    "  for j in range(len(A)):\n",
    "    if i not in fila and j not in columna:\n",
    "      mayor = A[i, j]\n",
    "\n",
    "iter += 1\n",
    "\n",
    "loc = np.where(A == mayor)\n",
    "fila.append(loc[0][0])\n",
    "columna.append(loc[1][0])\n",
    "\n",
    "for i in range(len(A)):\n",
    "  if i != columna[iter]:\n",
    "    A[fila[iter], i] = A[fila[iter], i] / (- mayor)\n",
    "\n",
    "for i in range(len(A)):\n",
    "  k = A[i, columna[iter]]\n",
    "  for j in range(len(A)):\n",
    "    if j != columna[iter] and i != fila[iter]:\n",
    "      A[i, j] += k * A[fila[iter], j]\n",
    "\n",
    "for i in range(len(A)):\n",
    "  if i == fila[iter]:\n",
    "    A[i, columna[iter]] = 1 / mayor\n",
    "  else:\n",
    "    A[i, columna[iter]] /= mayor\n",
    "\n",
    "T = Matrix(A)\n",
    "T.evalf(5)"
   ]
  },
  {
   "cell_type": "markdown",
   "metadata": {},
   "source": [
    "Finally, we change the order of the rows and columns to the initial order."
   ]
  },
  {
   "cell_type": "code",
   "execution_count": 5,
   "metadata": {},
   "outputs": [
    {
     "name": "stdout",
     "output_type": "stream",
     "text": [
      "Matriz inverza\n"
     ]
    },
    {
     "data": {
      "image/png": "[encoded data removed]",
      "text/latex": [
       "$\\displaystyle \\left[\\begin{matrix}0 & 1.0 & 1.0 & -1.0\\\\0.21429 & -1.1429 & -0.92857 & 1.0714\\\\-0.5 & 2.0 & 2.5 & -2.5\\\\-0.64286 & 3.4286 & 3.7857 & -4.2143\\end{matrix}\\right]$"
      ],
      "text/plain": [
       "⎡   0        1.0      1.0      -1.0  ⎤\n",
       "⎢                                    ⎥\n",
       "⎢0.21429   -1.1429  -0.92857  1.0714 ⎥\n",
       "⎢                                    ⎥\n",
       "⎢  -0.5      2.0      2.5      -2.5  ⎥\n",
       "⎢                                    ⎥\n",
       "⎣-0.64286  3.4286    3.7857   -4.2143⎦"
      ]
     },
     "execution_count": 5,
     "metadata": {},
     "output_type": "execute_result"
    }
   ],
   "source": [
    "for i in range(len(A)):\n",
    "  cambio = fila.index(i)\n",
    "  A[[i, cambio]] = A[[cambio, i]]\n",
    "  A[:, [i, cambio]] = A[:, [cambio, i]]\n",
    "\n",
    "print(\"Matriz inverza\")\n",
    "T = Matrix(A)\n",
    "T.evalf(5)"
   ]
  }
 ],
 "metadata": {
  "kernelspec": {
   "display_name": "Numerical-Methods-ScsEsf4X",
   "language": "python",
   "name": "python3"
  },
  "language_info": {
   "codemirror_mode": {
    "name": "ipython",
    "version": 3
   },
   "file_extension": ".py",
   "mimetype": "text/x-python",
   "name": "python",
   "nbconvert_exporter": "python",
   "pygments_lexer": "ipython3",
   "version": "3.12.1"
  }
 },
 "nbformat": 4,
 "nbformat_minor": 2
}
